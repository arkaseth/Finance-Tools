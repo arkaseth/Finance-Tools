{
  "nbformat": 4,
  "nbformat_minor": 0,
  "metadata": {
    "colab": {
      "name": "SharpeRatio.ipynb",
      "provenance": [],
      "authorship_tag": "ABX9TyOyHVRvyPfPcr2wW396TjR0"
    },
    "kernelspec": {
      "name": "python3",
      "display_name": "Python 3"
    },
    "language_info": {
      "name": "python"
    }
  },
  "cells": [
    {
      "cell_type": "code",
      "metadata": {
        "id": "-LiVKJXTiApm"
      },
      "source": [
        "# !pip install --upgrade pandas-datareader\n",
        "\n",
        "import numpy as np\n",
        "import matplotlib.pyplot as plt\n",
        "import pandas as pd\n",
        "import datetime\n",
        "\n",
        "from pandas_datareader import data as pdr\n",
        "#import fix_yahoo_finance as yf\n",
        "\n",
        "#yf.pdr_override()\n",
        "\n",
        "stock1 = \"AAPL\"\n",
        "stock2 = \"AMZN\"\n",
        "stock3 = \"GE\"\n",
        "stock4 = \"JPM\"\n",
        "\n",
        "start_date = \"2010-06-01\"\n",
        "end_date = \"2021-08-19\"\n",
        "\n",
        "pd1 = pdr.DataReader(stock1, \"yahoo\", start=start_date, end=end_date)\n",
        "\n",
        "pd2 = pdr.DataReader(stock2, \"yahoo\", start=start_date, end=end_date)\n",
        "\n",
        "pd3 = pdr.DataReader(stock3, \"yahoo\", start=start_date, end=end_date)\n",
        "\n",
        "pd4 = pdr.DataReader(stock4, \"yahoo\", start=start_date, end=end_date)"
      ],
      "execution_count": 9,
      "outputs": []
    },
    {
      "cell_type": "code",
      "metadata": {
        "colab": {
          "base_uri": "https://localhost:8080/",
          "height": 363
        },
        "id": "fAl7JrcWsQiE",
        "outputId": "a5416a41-3b54-4264-8c5a-899bd50e67f4"
      },
      "source": [
        "pd4.tail(9)"
      ],
      "execution_count": 10,
      "outputs": [
        {
          "output_type": "execute_result",
          "data": {
            "text/html": [
              "<div>\n",
              "<style scoped>\n",
              "    .dataframe tbody tr th:only-of-type {\n",
              "        vertical-align: middle;\n",
              "    }\n",
              "\n",
              "    .dataframe tbody tr th {\n",
              "        vertical-align: top;\n",
              "    }\n",
              "\n",
              "    .dataframe thead th {\n",
              "        text-align: right;\n",
              "    }\n",
              "</style>\n",
              "<table border=\"1\" class=\"dataframe\">\n",
              "  <thead>\n",
              "    <tr style=\"text-align: right;\">\n",
              "      <th></th>\n",
              "      <th>High</th>\n",
              "      <th>Low</th>\n",
              "      <th>Open</th>\n",
              "      <th>Close</th>\n",
              "      <th>Volume</th>\n",
              "      <th>Adj Close</th>\n",
              "    </tr>\n",
              "    <tr>\n",
              "      <th>Date</th>\n",
              "      <th></th>\n",
              "      <th></th>\n",
              "      <th></th>\n",
              "      <th></th>\n",
              "      <th></th>\n",
              "      <th></th>\n",
              "    </tr>\n",
              "  </thead>\n",
              "  <tbody>\n",
              "    <tr>\n",
              "      <th>2021-08-09</th>\n",
              "      <td>158.550003</td>\n",
              "      <td>155.899994</td>\n",
              "      <td>157.520004</td>\n",
              "      <td>157.330002</td>\n",
              "      <td>9516900.0</td>\n",
              "      <td>157.330002</td>\n",
              "    </tr>\n",
              "    <tr>\n",
              "      <th>2021-08-10</th>\n",
              "      <td>159.979996</td>\n",
              "      <td>156.309998</td>\n",
              "      <td>156.740005</td>\n",
              "      <td>159.259995</td>\n",
              "      <td>8667000.0</td>\n",
              "      <td>159.259995</td>\n",
              "    </tr>\n",
              "    <tr>\n",
              "      <th>2021-08-11</th>\n",
              "      <td>161.500000</td>\n",
              "      <td>159.080002</td>\n",
              "      <td>160.000000</td>\n",
              "      <td>161.160004</td>\n",
              "      <td>9156500.0</td>\n",
              "      <td>161.160004</td>\n",
              "    </tr>\n",
              "    <tr>\n",
              "      <th>2021-08-12</th>\n",
              "      <td>162.369995</td>\n",
              "      <td>160.550003</td>\n",
              "      <td>161.880005</td>\n",
              "      <td>161.789993</td>\n",
              "      <td>8844200.0</td>\n",
              "      <td>161.789993</td>\n",
              "    </tr>\n",
              "    <tr>\n",
              "      <th>2021-08-13</th>\n",
              "      <td>162.160004</td>\n",
              "      <td>159.570007</td>\n",
              "      <td>161.789993</td>\n",
              "      <td>159.979996</td>\n",
              "      <td>8980000.0</td>\n",
              "      <td>159.979996</td>\n",
              "    </tr>\n",
              "    <tr>\n",
              "      <th>2021-08-16</th>\n",
              "      <td>159.029999</td>\n",
              "      <td>156.779999</td>\n",
              "      <td>158.940002</td>\n",
              "      <td>158.929993</td>\n",
              "      <td>8755800.0</td>\n",
              "      <td>158.929993</td>\n",
              "    </tr>\n",
              "    <tr>\n",
              "      <th>2021-08-17</th>\n",
              "      <td>158.860001</td>\n",
              "      <td>155.270004</td>\n",
              "      <td>157.570007</td>\n",
              "      <td>157.009995</td>\n",
              "      <td>9347200.0</td>\n",
              "      <td>157.009995</td>\n",
              "    </tr>\n",
              "    <tr>\n",
              "      <th>2021-08-18</th>\n",
              "      <td>158.009995</td>\n",
              "      <td>155.339996</td>\n",
              "      <td>156.309998</td>\n",
              "      <td>155.580002</td>\n",
              "      <td>8065500.0</td>\n",
              "      <td>155.580002</td>\n",
              "    </tr>\n",
              "    <tr>\n",
              "      <th>2021-08-19</th>\n",
              "      <td>155.559998</td>\n",
              "      <td>153.009995</td>\n",
              "      <td>153.160004</td>\n",
              "      <td>154.279999</td>\n",
              "      <td>9517700.0</td>\n",
              "      <td>154.279999</td>\n",
              "    </tr>\n",
              "  </tbody>\n",
              "</table>\n",
              "</div>"
            ],
            "text/plain": [
              "                  High         Low  ...     Volume   Adj Close\n",
              "Date                                ...                       \n",
              "2021-08-09  158.550003  155.899994  ...  9516900.0  157.330002\n",
              "2021-08-10  159.979996  156.309998  ...  8667000.0  159.259995\n",
              "2021-08-11  161.500000  159.080002  ...  9156500.0  161.160004\n",
              "2021-08-12  162.369995  160.550003  ...  8844200.0  161.789993\n",
              "2021-08-13  162.160004  159.570007  ...  8980000.0  159.979996\n",
              "2021-08-16  159.029999  156.779999  ...  8755800.0  158.929993\n",
              "2021-08-17  158.860001  155.270004  ...  9347200.0  157.009995\n",
              "2021-08-18  158.009995  155.339996  ...  8065500.0  155.580002\n",
              "2021-08-19  155.559998  153.009995  ...  9517700.0  154.279999\n",
              "\n",
              "[9 rows x 6 columns]"
            ]
          },
          "metadata": {},
          "execution_count": 10
        }
      ]
    },
    {
      "cell_type": "code",
      "metadata": {
        "colab": {
          "base_uri": "https://localhost:8080/",
          "height": 238
        },
        "id": "Sr_3Hcmpshs1",
        "outputId": "00beea48-befb-4189-92a8-269fd6c6594e"
      },
      "source": [
        "pd1 = pd1.drop(columns=[\"High\", \"Low\", \"Open\", \"Close\", \"Volume\"])\n",
        "pd2 = pd2.drop(columns=[\"High\", \"Low\", \"Open\", \"Close\", \"Volume\"])\n",
        "pd3 = pd3.drop(columns=[\"High\", \"Low\", \"Open\", \"Close\", \"Volume\"])\n",
        "pd4 = pd4.drop(columns=[\"High\", \"Low\", \"Open\", \"Close\", \"Volume\"])\n",
        "\n",
        "pd1.head()"
      ],
      "execution_count": 11,
      "outputs": [
        {
          "output_type": "execute_result",
          "data": {
            "text/html": [
              "<div>\n",
              "<style scoped>\n",
              "    .dataframe tbody tr th:only-of-type {\n",
              "        vertical-align: middle;\n",
              "    }\n",
              "\n",
              "    .dataframe tbody tr th {\n",
              "        vertical-align: top;\n",
              "    }\n",
              "\n",
              "    .dataframe thead th {\n",
              "        text-align: right;\n",
              "    }\n",
              "</style>\n",
              "<table border=\"1\" class=\"dataframe\">\n",
              "  <thead>\n",
              "    <tr style=\"text-align: right;\">\n",
              "      <th></th>\n",
              "      <th>Adj Close</th>\n",
              "    </tr>\n",
              "    <tr>\n",
              "      <th>Date</th>\n",
              "      <th></th>\n",
              "    </tr>\n",
              "  </thead>\n",
              "  <tbody>\n",
              "    <tr>\n",
              "      <th>2010-06-01</th>\n",
              "      <td>7.998320</td>\n",
              "    </tr>\n",
              "    <tr>\n",
              "      <th>2010-06-02</th>\n",
              "      <td>8.093994</td>\n",
              "    </tr>\n",
              "    <tr>\n",
              "      <th>2010-06-03</th>\n",
              "      <td>8.068543</td>\n",
              "    </tr>\n",
              "    <tr>\n",
              "      <th>2010-06-04</th>\n",
              "      <td>7.848980</td>\n",
              "    </tr>\n",
              "    <tr>\n",
              "      <th>2010-06-07</th>\n",
              "      <td>7.695044</td>\n",
              "    </tr>\n",
              "  </tbody>\n",
              "</table>\n",
              "</div>"
            ],
            "text/plain": [
              "            Adj Close\n",
              "Date                 \n",
              "2010-06-01   7.998320\n",
              "2010-06-02   8.093994\n",
              "2010-06-03   8.068543\n",
              "2010-06-04   7.848980\n",
              "2010-06-07   7.695044"
            ]
          },
          "metadata": {},
          "execution_count": 11
        }
      ]
    },
    {
      "cell_type": "code",
      "metadata": {
        "id": "frYCKtLzt4Qt"
      },
      "source": [
        "for stock_df in (pd1, pd2, pd3, pd4):\n",
        "  stock_df[\"Norm return\"] = stock_df[\"Adj Close\"] / stock_df.iloc[0][\"Adj Close\"] # normalized return"
      ],
      "execution_count": 13,
      "outputs": []
    },
    {
      "cell_type": "code",
      "metadata": {
        "id": "1e6CmkWyuO1j"
      },
      "source": [
        "# assume portfolio contains 35% of stock1, 25% of stock2, 20% of stock3 and 20% of stock4\n",
        "for stock_df, allocation in zip((pd1, pd2, pd3, pd4),[.35,.25,.2,.2]):\n",
        "  stock_df[\"Allocation\"] = stock_df[\"Norm return\"] * allocation"
      ],
      "execution_count": 14,
      "outputs": []
    },
    {
      "cell_type": "code",
      "metadata": {
        "id": "idPA4OZyut-T"
      },
      "source": [
        "# assume initial portfolio size is 10k\n",
        "for stock_df in (pd1, pd2, pd3, pd4):\n",
        "  stock_df[\"Position\"] = stock_df[\"Allocation\"]*10000"
      ],
      "execution_count": 15,
      "outputs": []
    },
    {
      "cell_type": "code",
      "metadata": {
        "colab": {
          "base_uri": "https://localhost:8080/",
          "height": 238
        },
        "id": "OgRqNe7Yu5P5",
        "outputId": "35e3c17d-6bd2-43a7-8864-42e4b1b39bce"
      },
      "source": [
        "pd2.head()"
      ],
      "execution_count": 16,
      "outputs": [
        {
          "output_type": "execute_result",
          "data": {
            "text/html": [
              "<div>\n",
              "<style scoped>\n",
              "    .dataframe tbody tr th:only-of-type {\n",
              "        vertical-align: middle;\n",
              "    }\n",
              "\n",
              "    .dataframe tbody tr th {\n",
              "        vertical-align: top;\n",
              "    }\n",
              "\n",
              "    .dataframe thead th {\n",
              "        text-align: right;\n",
              "    }\n",
              "</style>\n",
              "<table border=\"1\" class=\"dataframe\">\n",
              "  <thead>\n",
              "    <tr style=\"text-align: right;\">\n",
              "      <th></th>\n",
              "      <th>Adj Close</th>\n",
              "      <th>Norm return</th>\n",
              "      <th>Allocation</th>\n",
              "      <th>Position</th>\n",
              "    </tr>\n",
              "    <tr>\n",
              "      <th>Date</th>\n",
              "      <th></th>\n",
              "      <th></th>\n",
              "      <th></th>\n",
              "      <th></th>\n",
              "    </tr>\n",
              "  </thead>\n",
              "  <tbody>\n",
              "    <tr>\n",
              "      <th>2010-06-01</th>\n",
              "      <td>123.239998</td>\n",
              "      <td>1.000000</td>\n",
              "      <td>0.250000</td>\n",
              "      <td>2500.000000</td>\n",
              "    </tr>\n",
              "    <tr>\n",
              "      <th>2010-06-02</th>\n",
              "      <td>126.309998</td>\n",
              "      <td>1.024911</td>\n",
              "      <td>0.256228</td>\n",
              "      <td>2562.276853</td>\n",
              "    </tr>\n",
              "    <tr>\n",
              "      <th>2010-06-03</th>\n",
              "      <td>128.759995</td>\n",
              "      <td>1.044791</td>\n",
              "      <td>0.261198</td>\n",
              "      <td>2611.976565</td>\n",
              "    </tr>\n",
              "    <tr>\n",
              "      <th>2010-06-04</th>\n",
              "      <td>122.769997</td>\n",
              "      <td>0.996186</td>\n",
              "      <td>0.249047</td>\n",
              "      <td>2490.465733</td>\n",
              "    </tr>\n",
              "    <tr>\n",
              "      <th>2010-06-07</th>\n",
              "      <td>122.010002</td>\n",
              "      <td>0.990020</td>\n",
              "      <td>0.247505</td>\n",
              "      <td>2475.048772</td>\n",
              "    </tr>\n",
              "  </tbody>\n",
              "</table>\n",
              "</div>"
            ],
            "text/plain": [
              "             Adj Close  Norm return  Allocation     Position\n",
              "Date                                                        \n",
              "2010-06-01  123.239998     1.000000    0.250000  2500.000000\n",
              "2010-06-02  126.309998     1.024911    0.256228  2562.276853\n",
              "2010-06-03  128.759995     1.044791    0.261198  2611.976565\n",
              "2010-06-04  122.769997     0.996186    0.249047  2490.465733\n",
              "2010-06-07  122.010002     0.990020    0.247505  2475.048772"
            ]
          },
          "metadata": {},
          "execution_count": 16
        }
      ]
    },
    {
      "cell_type": "code",
      "metadata": {
        "id": "rcArxbr2vJ4z"
      },
      "source": [
        "# Combine all positions to a single DataFrame\n",
        "all_pos = [pd1[\"Position\"], pd2[\"Position\"], pd3[\"Position\"], pd4[\"Position\"]]\n",
        "portf_val = pd.concat(all_pos, axis=1)\n",
        "portf_val.columns = [f\"{stock1} Pos\",f\"{stock2} Pos\",f\"{stock3} Pos\",f\"{stock4} Pos\"]"
      ],
      "execution_count": 18,
      "outputs": []
    },
    {
      "cell_type": "code",
      "metadata": {
        "colab": {
          "base_uri": "https://localhost:8080/",
          "height": 238
        },
        "id": "aXGBiQeFvvpT",
        "outputId": "9410e92b-8d84-4213-e457-b38d1800cc24"
      },
      "source": [
        "# Sum of all positions\n",
        "portf_val[\"Total Pos\"] = portf_val.sum(axis=1)\n",
        "portf_val.head()"
      ],
      "execution_count": 19,
      "outputs": [
        {
          "output_type": "execute_result",
          "data": {
            "text/html": [
              "<div>\n",
              "<style scoped>\n",
              "    .dataframe tbody tr th:only-of-type {\n",
              "        vertical-align: middle;\n",
              "    }\n",
              "\n",
              "    .dataframe tbody tr th {\n",
              "        vertical-align: top;\n",
              "    }\n",
              "\n",
              "    .dataframe thead th {\n",
              "        text-align: right;\n",
              "    }\n",
              "</style>\n",
              "<table border=\"1\" class=\"dataframe\">\n",
              "  <thead>\n",
              "    <tr style=\"text-align: right;\">\n",
              "      <th></th>\n",
              "      <th>AAPL Pos</th>\n",
              "      <th>AMZN Pos</th>\n",
              "      <th>GE Pos</th>\n",
              "      <th>JPM Pos</th>\n",
              "      <th>Total Pos</th>\n",
              "    </tr>\n",
              "    <tr>\n",
              "      <th>Date</th>\n",
              "      <th></th>\n",
              "      <th></th>\n",
              "      <th></th>\n",
              "      <th></th>\n",
              "      <th></th>\n",
              "    </tr>\n",
              "  </thead>\n",
              "  <tbody>\n",
              "    <tr>\n",
              "      <th>2010-06-01</th>\n",
              "      <td>3500.000000</td>\n",
              "      <td>2500.000000</td>\n",
              "      <td>2000.000000</td>\n",
              "      <td>2000.000000</td>\n",
              "      <td>10000.000000</td>\n",
              "    </tr>\n",
              "    <tr>\n",
              "      <th>2010-06-02</th>\n",
              "      <td>3541.866394</td>\n",
              "      <td>2562.276853</td>\n",
              "      <td>2046.307269</td>\n",
              "      <td>2052.413236</td>\n",
              "      <td>10202.863752</td>\n",
              "    </tr>\n",
              "    <tr>\n",
              "      <th>2010-06-03</th>\n",
              "      <td>3530.729371</td>\n",
              "      <td>2611.976565</td>\n",
              "      <td>2058.822779</td>\n",
              "      <td>2029.061217</td>\n",
              "      <td>10230.589931</td>\n",
              "    </tr>\n",
              "    <tr>\n",
              "      <th>2010-06-04</th>\n",
              "      <td>3434.650374</td>\n",
              "      <td>2490.465733</td>\n",
              "      <td>1966.207407</td>\n",
              "      <td>1952.257274</td>\n",
              "      <td>9843.580787</td>\n",
              "    </tr>\n",
              "    <tr>\n",
              "      <th>2010-06-07</th>\n",
              "      <td>3367.288847</td>\n",
              "      <td>2475.048772</td>\n",
              "      <td>1928.660544</td>\n",
              "      <td>1905.552704</td>\n",
              "      <td>9676.550867</td>\n",
              "    </tr>\n",
              "  </tbody>\n",
              "</table>\n",
              "</div>"
            ],
            "text/plain": [
              "               AAPL Pos     AMZN Pos       GE Pos      JPM Pos     Total Pos\n",
              "Date                                                                        \n",
              "2010-06-01  3500.000000  2500.000000  2000.000000  2000.000000  10000.000000\n",
              "2010-06-02  3541.866394  2562.276853  2046.307269  2052.413236  10202.863752\n",
              "2010-06-03  3530.729371  2611.976565  2058.822779  2029.061217  10230.589931\n",
              "2010-06-04  3434.650374  2490.465733  1966.207407  1952.257274   9843.580787\n",
              "2010-06-07  3367.288847  2475.048772  1928.660544  1905.552704   9676.550867"
            ]
          },
          "metadata": {},
          "execution_count": 19
        }
      ]
    },
    {
      "cell_type": "code",
      "metadata": {
        "colab": {
          "base_uri": "https://localhost:8080/",
          "height": 487
        },
        "id": "F2EEQdJBwAh3",
        "outputId": "b6fa7e30-fc30-4cae-8689-3e5f0382a7ab"
      },
      "source": [
        "import matplotlib.pyplot as plt\n",
        "portf_val[\"Total Pos\"].plot(figsize=(10,8))"
      ],
      "execution_count": 20,
      "outputs": [
        {
          "output_type": "execute_result",
          "data": {
            "text/plain": [
              "<matplotlib.axes._subplots.AxesSubplot at 0x7f266ecebc90>"
            ]
          },
          "metadata": {},
          "execution_count": 20
        },
        {
          "output_type": "display_data",
          "data": {
            "image/png": "[encoded data removed]",
            "text/plain": [
              "<Figure size 720x576 with 1 Axes>"
            ]
          },
          "metadata": {
            "needs_background": "light"
          }
        }
      ]
    },
    {
      "cell_type": "code",
      "metadata": {
        "colab": {
          "base_uri": "https://localhost:8080/",
          "height": 483
        },
        "id": "4Zx8KO_9wW_3",
        "outputId": "40c694c5-84a2-4cae-a262-3ade865d591d"
      },
      "source": [
        "portf_val.drop(\"Total Pos\", axis=1).plot(figsize=(10,8)) # Plot of individual stocks"
      ],
      "execution_count": 22,
      "outputs": [
        {
          "output_type": "execute_result",
          "data": {
            "text/plain": [
              "<matplotlib.axes._subplots.AxesSubplot at 0x7f266ed8b510>"
            ]
          },
          "metadata": {},
          "execution_count": 22
        },
        {
          "output_type": "display_data",
          "data": {
            "image/png": "[encoded data removed]",
            "text/plain": [
              "<Figure size 720x576 with 1 Axes>"
            ]
          },
          "metadata": {
            "needs_background": "light"
          }
        }
      ]
    },
    {
      "cell_type": "code",
      "metadata": {
        "colab": {
          "base_uri": "https://localhost:8080/"
        },
        "id": "DLrReOACw91H",
        "outputId": "f149ae3a-d5b2-4529-ea5b-17e2289f3b9a"
      },
      "source": [
        "cumulative_return = 100 * ( portf_val [ \"Total Pos\" ] [ -1 ] / portf_val [ \"Total Pos\" ] [ 0 ] -1)\n",
        "print(\"Cumulative return was {:.2f}% \".format(cumulative_return))"
      ],
      "execution_count": 24,
      "outputs": [
        {
          "output_type": "stream",
          "text": [
            "Cumulative return was 1317.75% \n"
          ],
          "name": "stdout"
        }
      ]
    },
    {
      "cell_type": "code",
      "metadata": {
        "id": "YK8kS3H0xWgi"
      },
      "source": [
        "portf_val[\"Daily Return\"] = portf_val[\"Total Pos\"].pct_change(1) # Adding percentage change to DataFrame"
      ],
      "execution_count": 25,
      "outputs": []
    },
    {
      "cell_type": "code",
      "metadata": {
        "colab": {
          "base_uri": "https://localhost:8080/"
        },
        "id": "NE23V4xCxya_",
        "outputId": "a89e4ea5-8fae-42ae-eef2-dad4ab2dd5b2"
      },
      "source": [
        "Sharpe_Ratio = portf_val[\"Daily Return\"].mean() / portf_val[\"Daily Return\"].std() # Sharpe Ratio\n",
        "Sharpe_Ratio"
      ],
      "execution_count": 27,
      "outputs": [
        {
          "output_type": "execute_result",
          "data": {
            "text/plain": [
              "0.07262630843062125"
            ]
          },
          "metadata": {},
          "execution_count": 27
        }
      ]
    },
    {
      "cell_type": "code",
      "metadata": {
        "colab": {
          "base_uri": "https://localhost:8080/"
        },
        "id": "KSNVmnewyBq6",
        "outputId": "d3d3b6be-bfaa-4af2-8b08-c68624a7f062"
      },
      "source": [
        "# Annualised Sharpe Ratio\n",
        "# Assuming 252 trading days in a year\n",
        "A_Sharpe_Ratio = (252**0.5) * Sharpe_Ratio\n",
        "A_Sharpe_Ratio"
      ],
      "execution_count": 28,
      "outputs": [
        {
          "output_type": "execute_result",
          "data": {
            "text/plain": [
              "1.1529069044885851"
            ]
          },
          "metadata": {},
          "execution_count": 28
        }
      ]
    }
  ]
}